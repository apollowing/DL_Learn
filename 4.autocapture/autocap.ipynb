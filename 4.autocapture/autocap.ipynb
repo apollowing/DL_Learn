{
 "cells": [
  {
   "cell_type": "markdown",
   "metadata": {},
   "source": [
    "## Utility to capture photos for training of CNN"
   ]
  },
  {
   "cell_type": "code",
   "execution_count": 1,
   "metadata": {},
   "outputs": [],
   "source": [
    "import matplotlib.pyplot as plt\n",
    "import cv2\n",
    "from tensorflow.keras.preprocessing import image\n",
    "\n"
   ]
  },
  {
   "cell_type": "code",
   "execution_count": 2,
   "metadata": {},
   "outputs": [],
   "source": [
    "from tensorflow.keras.models import load_model\n",
    "from tensorflow.keras.preprocessing import image\n",
    "import numpy as np\n",
    "import matplotlib.pyplot as plt\n",
    "\n",
    "\n",
    "# model = load_model('..\\contents\\models\\good3_model.h5')\n",
    "model = load_model(r\"..\\3.Fine_tune\\model.h5\")"
   ]
  },
  {
   "cell_type": "code",
   "execution_count": 3,
   "metadata": {},
   "outputs": [
    {
     "ename": "error",
     "evalue": "OpenCV(4.9.0) D:\\a\\opencv-python\\opencv-python\\opencv\\modules\\imgproc\\src\\resize.cpp:4152: error: (-215:Assertion failed) !ssize.empty() in function 'cv::resize'\n",
     "output_type": "error",
     "traceback": [
      "\u001b[1;31m---------------------------------------------------------------------------\u001b[0m",
      "\u001b[1;31merror\u001b[0m                                     Traceback (most recent call last)",
      "Cell \u001b[1;32mIn[3], line 10\u001b[0m\n\u001b[0;32m      7\u001b[0m \u001b[38;5;28;01mwhile\u001b[39;00m \u001b[38;5;28;01mTrue\u001b[39;00m:\n\u001b[0;32m      9\u001b[0m     result, cam_img \u001b[38;5;241m=\u001b[39m cam\u001b[38;5;241m.\u001b[39mread()\n\u001b[1;32m---> 10\u001b[0m     img \u001b[38;5;241m=\u001b[39m \u001b[43mcv2\u001b[49m\u001b[38;5;241;43m.\u001b[39;49m\u001b[43mresize\u001b[49m\u001b[43m(\u001b[49m\u001b[43mcam_img\u001b[49m\u001b[43m,\u001b[49m\u001b[43m(\u001b[49m\u001b[38;5;241;43m224\u001b[39;49m\u001b[43m,\u001b[49m\u001b[38;5;241;43m224\u001b[39;49m\u001b[43m)\u001b[49m\u001b[43m)\u001b[49m\n\u001b[0;32m     11\u001b[0m     \u001b[38;5;66;03m# img_path = r'..\\contents\\windows_imgs\\test'\u001b[39;00m\n\u001b[0;32m     12\u001b[0m     img_path \u001b[38;5;241m=\u001b[39m \u001b[38;5;124mr\u001b[39m\u001b[38;5;124m'\u001b[39m\u001b[38;5;124m..\u001b[39m\u001b[38;5;124m\\\u001b[39m\u001b[38;5;124mcontents\u001b[39m\u001b[38;5;124m\\\u001b[39m\u001b[38;5;124mwindows_imgs\u001b[39m\u001b[38;5;124m\\\u001b[39m\u001b[38;5;124mtest\u001b[39m\u001b[38;5;124m'\u001b[39m\n",
      "\u001b[1;31merror\u001b[0m: OpenCV(4.9.0) D:\\a\\opencv-python\\opencv-python\\opencv\\modules\\imgproc\\src\\resize.cpp:4152: error: (-215:Assertion failed) !ssize.empty() in function 'cv::resize'\n"
     ]
    }
   ],
   "source": [
    "\n",
    "\n",
    "# cv2.waitKey(0)\n",
    "from time import strftime\n",
    "\n",
    "\n",
    "cam = cv2.VideoCapture(0)\n",
    "\n",
    "while True:\n",
    "\n",
    "    result, cam_img = cam.read()\n",
    "    img = cv2.resize(cam_img,(224,224))\n",
    "    # img_path = r'..\\contents\\windows_imgs\\test'\n",
    "    img_path = r'..\\contents\\windows_imgs\\test'\n",
    "        \n",
    "    if result == True:\n",
    "\n",
    "        key = cv2.waitKey(1)\n",
    "\n",
    "        if key & 0xFF == ord('q'):\n",
    "            break\n",
    "\n",
    "        if key & 0xFF == ord('c'):\n",
    "            cv2.imwrite(img_path + \"\\close\\close_\" + strftime(\"%d%m%y_%H%M%S\") +\".jpeg\", cam_img)\n",
    "\n",
    "        if key & 0xFF == ord('o'):\n",
    "            cv2.imwrite(img_path + \"\\open\\open_\" + strftime(\"%d%m%y_%H%M%S\") +\".jpeg\", cam_img)\n",
    "\n",
    "        img_array = image.img_to_array(img)\n",
    "        expanded_img_array = np.expand_dims(img_array, axis=0)\n",
    "        preprocessed_img = expanded_img_array / 255.  # Preprocess the image\n",
    "        prediction = model.predict(preprocessed_img)\n",
    "        \n",
    "        # Define text properties\n",
    "        text = f\"{'Close' if prediction < 0.3 else 'Open'}: {prediction}\"\n",
    "        org = (10, 15)\n",
    "        font = cv2.FONT_HERSHEY_SIMPLEX\n",
    "        font_scale = 0.5\n",
    "        color = (255, 0,255)  # Green color\n",
    "        thickness = 1\n",
    "\n",
    "        # Overlay the text with different font styles\n",
    "        cam_img = cv2.putText(cam_img, text, org, font, font_scale, color, thickness, cv2.LINE_AA)\n",
    "\n",
    "        cv2.imshow(f\"Live\",cam_img)\n",
    "\n",
    "cam.release()\n",
    "cv2.destroyAllWindows()"
   ]
  },
  {
   "cell_type": "code",
   "execution_count": null,
   "metadata": {},
   "outputs": [],
   "source": []
  }
 ],
 "metadata": {
  "kernelspec": {
   "display_name": "Python 3",
   "language": "python",
   "name": "python3"
  },
  "language_info": {
   "codemirror_mode": {
    "name": "ipython",
    "version": 3
   },
   "file_extension": ".py",
   "mimetype": "text/x-python",
   "name": "python",
   "nbconvert_exporter": "python",
   "pygments_lexer": "ipython3",
   "version": "3.9.13"
  }
 },
 "nbformat": 4,
 "nbformat_minor": 2
}
